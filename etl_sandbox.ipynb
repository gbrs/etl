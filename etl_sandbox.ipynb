{
 "cells": [
  {
   "cell_type": "code",
   "execution_count": 1,
   "id": "3556c76b-fd47-44ed-a5b0-ea4ed7444650",
   "metadata": {},
   "outputs": [],
   "source": [
    "import numpy as np\n",
    "import pandas as pd\n",
    "import matplotlib.pyplot as plt\n",
    "import seaborn as sns"
   ]
  },
  {
   "cell_type": "code",
   "execution_count": null,
   "id": "2524f0c9-7a34-482f-90c6-2153a3057f52",
   "metadata": {},
   "outputs": [],
   "source": []
  },
  {
   "cell_type": "code",
   "execution_count": 6,
   "id": "d49433e7-0889-4da2-97cd-7dbd938373d7",
   "metadata": {
    "tags": []
   },
   "outputs": [],
   "source": [
    "sales = pd.read_csv('./data/sales.csv', header=0)"
   ]
  },
  {
   "cell_type": "code",
   "execution_count": 20,
   "id": "227ca748-1070-4c4f-b17b-217e4d0bf230",
   "metadata": {},
   "outputs": [
    {
     "data": {
      "text/html": [
       "<div>\n",
       "<style scoped>\n",
       "    .dataframe tbody tr th:only-of-type {\n",
       "        vertical-align: middle;\n",
       "    }\n",
       "\n",
       "    .dataframe tbody tr th {\n",
       "        vertical-align: top;\n",
       "    }\n",
       "\n",
       "    .dataframe thead th {\n",
       "        text-align: right;\n",
       "    }\n",
       "</style>\n",
       "<table border=\"1\" class=\"dataframe\">\n",
       "  <thead>\n",
       "    <tr style=\"text-align: right;\">\n",
       "      <th></th>\n",
       "      <th>Дата</th>\n",
       "      <th>Артель</th>\n",
       "      <th>Плата</th>\n",
       "    </tr>\n",
       "  </thead>\n",
       "  <tbody>\n",
       "    <tr>\n",
       "      <th>0</th>\n",
       "      <td>2048-01-01</td>\n",
       "      <td>Каша из топора</td>\n",
       "      <td>10208.64</td>\n",
       "    </tr>\n",
       "    <tr>\n",
       "      <th>1</th>\n",
       "      <td>2048-01-01</td>\n",
       "      <td>Бабки Ёжки</td>\n",
       "      <td>21961.11</td>\n",
       "    </tr>\n",
       "    <tr>\n",
       "      <th>2</th>\n",
       "      <td>2048-01-01</td>\n",
       "      <td>Хоббитонские угощения</td>\n",
       "      <td>6905.58</td>\n",
       "    </tr>\n",
       "    <tr>\n",
       "      <th>3</th>\n",
       "      <td>2048-01-01</td>\n",
       "      <td>Дырявый котёл</td>\n",
       "      <td>4571.70</td>\n",
       "    </tr>\n",
       "    <tr>\n",
       "      <th>4</th>\n",
       "      <td>2048-01-01</td>\n",
       "      <td>Ёлки-палки</td>\n",
       "      <td>15124.69</td>\n",
       "    </tr>\n",
       "  </tbody>\n",
       "</table>\n",
       "</div>"
      ],
      "text/plain": [
       "        Дата                 Артель     Плата\n",
       "0 2048-01-01         Каша из топора  10208.64\n",
       "1 2048-01-01             Бабки Ёжки  21961.11\n",
       "2 2048-01-01  Хоббитонские угощения   6905.58\n",
       "3 2048-01-01          Дырявый котёл   4571.70\n",
       "4 2048-01-01             Ёлки-палки  15124.69"
      ]
     },
     "execution_count": 20,
     "metadata": {},
     "output_type": "execute_result"
    }
   ],
   "source": [
    "sales.head()"
   ]
  },
  {
   "cell_type": "code",
   "execution_count": 19,
   "id": "faab418d-d418-48eb-8bd7-0dd899f887dc",
   "metadata": {},
   "outputs": [],
   "source": [
    "sales.Дата = pd.to_datetime(sales.Дата)"
   ]
  },
  {
   "cell_type": "code",
   "execution_count": 22,
   "id": "f848e0a8-6620-4f64-8809-b4db6b6ab499",
   "metadata": {},
   "outputs": [
    {
     "name": "stdout",
     "output_type": "stream",
     "text": [
      "<class 'pandas.core.frame.DataFrame'>\n",
      "RangeIndex: 1304 entries, 0 to 1303\n",
      "Data columns (total 3 columns):\n",
      " #   Column  Non-Null Count  Dtype         \n",
      "---  ------  --------------  -----         \n",
      " 0   Дата    1304 non-null   datetime64[ns]\n",
      " 1   Артель  1304 non-null   object        \n",
      " 2   Плата   1304 non-null   float64       \n",
      "dtypes: datetime64[ns](1), float64(1), object(1)\n",
      "memory usage: 30.7+ KB\n"
     ]
    }
   ],
   "source": [
    "sales.info()"
   ]
  },
  {
   "cell_type": "code",
   "execution_count": null,
   "id": "3814dc28-de9e-4563-beba-be7aecf40902",
   "metadata": {},
   "outputs": [],
   "source": []
  },
  {
   "cell_type": "code",
   "execution_count": 24,
   "id": "9c3a3488-f500-4160-8e96-08b78ae6f373",
   "metadata": {},
   "outputs": [],
   "source": [
    "companies_by_months = sales.pivot_table('Плата', 'Артель', sales.Дата.dt.to_period('M'), aggfunc='sum')"
   ]
  },
  {
   "cell_type": "code",
   "execution_count": 25,
   "id": "5dfa65cb-180d-405f-bdc2-c461b408ec0f",
   "metadata": {},
   "outputs": [
    {
     "data": {
      "text/html": [
       "<div>\n",
       "<style scoped>\n",
       "    .dataframe tbody tr th:only-of-type {\n",
       "        vertical-align: middle;\n",
       "    }\n",
       "\n",
       "    .dataframe tbody tr th {\n",
       "        vertical-align: top;\n",
       "    }\n",
       "\n",
       "    .dataframe thead th {\n",
       "        text-align: right;\n",
       "    }\n",
       "</style>\n",
       "<table border=\"1\" class=\"dataframe\">\n",
       "  <thead>\n",
       "    <tr style=\"text-align: right;\">\n",
       "      <th>Дата</th>\n",
       "      <th>2048-01</th>\n",
       "      <th>2048-02</th>\n",
       "      <th>2048-03</th>\n",
       "      <th>2048-04</th>\n",
       "      <th>2048-05</th>\n",
       "      <th>2048-06</th>\n",
       "      <th>2048-07</th>\n",
       "      <th>2048-08</th>\n",
       "      <th>2048-09</th>\n",
       "      <th>2048-10</th>\n",
       "      <th>2048-11</th>\n",
       "      <th>2048-12</th>\n",
       "    </tr>\n",
       "    <tr>\n",
       "      <th>Артель</th>\n",
       "      <th></th>\n",
       "      <th></th>\n",
       "      <th></th>\n",
       "      <th></th>\n",
       "      <th></th>\n",
       "      <th></th>\n",
       "      <th></th>\n",
       "      <th></th>\n",
       "      <th></th>\n",
       "      <th></th>\n",
       "      <th></th>\n",
       "      <th></th>\n",
       "    </tr>\n",
       "  </thead>\n",
       "  <tbody>\n",
       "    <tr>\n",
       "      <th>Ёлки-палки</th>\n",
       "      <td>161708.44</td>\n",
       "      <td>201231.7</td>\n",
       "      <td>137177.13</td>\n",
       "      <td>145222.75</td>\n",
       "      <td>297567.24</td>\n",
       "      <td>192255.49</td>\n",
       "      <td>234615.00</td>\n",
       "      <td>76053.25</td>\n",
       "      <td>113950.56</td>\n",
       "      <td>275922.32</td>\n",
       "      <td>264820.57</td>\n",
       "      <td>177556.71</td>\n",
       "    </tr>\n",
       "    <tr>\n",
       "      <th>Алхимик</th>\n",
       "      <td>NaN</td>\n",
       "      <td>NaN</td>\n",
       "      <td>NaN</td>\n",
       "      <td>17064.38</td>\n",
       "      <td>NaN</td>\n",
       "      <td>NaN</td>\n",
       "      <td>NaN</td>\n",
       "      <td>9254.62</td>\n",
       "      <td>NaN</td>\n",
       "      <td>3218.88</td>\n",
       "      <td>NaN</td>\n",
       "      <td>NaN</td>\n",
       "    </tr>\n",
       "    <tr>\n",
       "      <th>Ангрист</th>\n",
       "      <td>NaN</td>\n",
       "      <td>15669.7</td>\n",
       "      <td>NaN</td>\n",
       "      <td>21535.14</td>\n",
       "      <td>NaN</td>\n",
       "      <td>NaN</td>\n",
       "      <td>16146.71</td>\n",
       "      <td>NaN</td>\n",
       "      <td>NaN</td>\n",
       "      <td>NaN</td>\n",
       "      <td>NaN</td>\n",
       "      <td>NaN</td>\n",
       "    </tr>\n",
       "    <tr>\n",
       "      <th>Ангуирел</th>\n",
       "      <td>NaN</td>\n",
       "      <td>NaN</td>\n",
       "      <td>NaN</td>\n",
       "      <td>NaN</td>\n",
       "      <td>31993.35</td>\n",
       "      <td>NaN</td>\n",
       "      <td>33926.74</td>\n",
       "      <td>NaN</td>\n",
       "      <td>NaN</td>\n",
       "      <td>NaN</td>\n",
       "      <td>NaN</td>\n",
       "      <td>NaN</td>\n",
       "    </tr>\n",
       "    <tr>\n",
       "      <th>Баба Яга</th>\n",
       "      <td>NaN</td>\n",
       "      <td>NaN</td>\n",
       "      <td>NaN</td>\n",
       "      <td>NaN</td>\n",
       "      <td>NaN</td>\n",
       "      <td>NaN</td>\n",
       "      <td>7074.59</td>\n",
       "      <td>NaN</td>\n",
       "      <td>NaN</td>\n",
       "      <td>NaN</td>\n",
       "      <td>NaN</td>\n",
       "      <td>5707.15</td>\n",
       "    </tr>\n",
       "  </tbody>\n",
       "</table>\n",
       "</div>"
      ],
      "text/plain": [
       "Дата          2048-01   2048-02    2048-03    2048-04    2048-05    2048-06  \\\n",
       "Артель                                                                        \n",
       "Ёлки-палки  161708.44  201231.7  137177.13  145222.75  297567.24  192255.49   \n",
       "Алхимик           NaN       NaN        NaN   17064.38        NaN        NaN   \n",
       "Ангрист           NaN   15669.7        NaN   21535.14        NaN        NaN   \n",
       "Ангуирел          NaN       NaN        NaN        NaN   31993.35        NaN   \n",
       "Баба Яга          NaN       NaN        NaN        NaN        NaN        NaN   \n",
       "\n",
       "Дата          2048-07   2048-08    2048-09    2048-10    2048-11    2048-12  \n",
       "Артель                                                                       \n",
       "Ёлки-палки  234615.00  76053.25  113950.56  275922.32  264820.57  177556.71  \n",
       "Алхимик           NaN   9254.62        NaN    3218.88        NaN        NaN  \n",
       "Ангрист      16146.71       NaN        NaN        NaN        NaN        NaN  \n",
       "Ангуирел     33926.74       NaN        NaN        NaN        NaN        NaN  \n",
       "Баба Яга      7074.59       NaN        NaN        NaN        NaN    5707.15  "
      ]
     },
     "execution_count": 25,
     "metadata": {},
     "output_type": "execute_result"
    }
   ],
   "source": [
    "companies_by_months.head()"
   ]
  },
  {
   "cell_type": "code",
   "execution_count": null,
   "id": "ff32eae5-d616-4a4e-a788-250132729bb1",
   "metadata": {},
   "outputs": [],
   "source": []
  },
  {
   "cell_type": "code",
   "execution_count": 26,
   "id": "d1dc107f-f4cb-4d2b-948d-b1691b5004cd",
   "metadata": {},
   "outputs": [],
   "source": [
    "companies_by_months.to_csv('companies_by_months.csv', index=False)"
   ]
  },
  {
   "cell_type": "code",
   "execution_count": null,
   "id": "86fcdab6-b72b-4136-addb-8d9bae4ab6d2",
   "metadata": {},
   "outputs": [],
   "source": []
  },
  {
   "cell_type": "code",
   "execution_count": null,
   "id": "74eefefc-51ec-43ab-9aab-8db96d607903",
   "metadata": {},
   "outputs": [],
   "source": []
  },
  {
   "cell_type": "code",
   "execution_count": null,
   "id": "2676b0c3-556a-4db7-9969-260452d7671a",
   "metadata": {},
   "outputs": [],
   "source": []
  }
 ],
 "metadata": {
  "kernelspec": {
   "display_name": "Python 3 (ipykernel)",
   "language": "python",
   "name": "python3"
  },
  "language_info": {
   "codemirror_mode": {
    "name": "ipython",
    "version": 3
   },
   "file_extension": ".py",
   "mimetype": "text/x-python",
   "name": "python",
   "nbconvert_exporter": "python",
   "pygments_lexer": "ipython3",
   "version": "3.9.13"
  }
 },
 "nbformat": 4,
 "nbformat_minor": 5
}
