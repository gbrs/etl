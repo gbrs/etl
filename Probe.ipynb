{
 "cells": [
  {
   "cell_type": "code",
   "execution_count": 1,
   "id": "dad6384b-28b0-446d-9679-5c8db50aa54e",
   "metadata": {},
   "outputs": [],
   "source": [
    "import numpy as np\n",
    "import pandas as pd\n",
    "import matplotlib.pyplot as plt\n",
    "import seaborn as sns"
   ]
  },
  {
   "cell_type": "code",
   "execution_count": 110,
   "id": "31995c32-d149-4e9c-9d8f-cdccfde7f05e",
   "metadata": {},
   "outputs": [],
   "source": [
    "import psycopg2\n",
    "from sqlalchemy import create_engine\n",
    "from sqlalchemy import URL"
   ]
  },
  {
   "cell_type": "code",
   "execution_count": null,
   "id": "5d607853-8bf2-4cc2-a3bd-c8596f6c37e8",
   "metadata": {},
   "outputs": [],
   "source": [
    "from config import postgresql_home "
   ]
  },
  {
   "cell_type": "code",
   "execution_count": null,
   "id": "93bc86ad-4bb7-41e3-b1d8-855e7302787c",
   "metadata": {},
   "outputs": [],
   "source": []
  },
  {
   "cell_type": "markdown",
   "id": "dcebc03f-3e84-4ca5-a4e4-b13b0f73cf24",
   "metadata": {},
   "source": [
    "загрузим данные из БД Postgres"
   ]
  },
  {
   "cell_type": "code",
   "execution_count": 5,
   "id": "3058994e-1579-4de1-8f83-b4fd0c68cd1a",
   "metadata": {},
   "outputs": [
    {
     "name": "stderr",
     "output_type": "stream",
     "text": [
      "C:\\Users\\Боря\\AppData\\Local\\Temp\\ipykernel_10864\\3356721468.py:8: UserWarning: pandas only supports SQLAlchemy connectable (engine/connection) or database string URI or sqlite3 DBAPI2 connection. Other DBAPI2 objects are not tested. Please consider using SQLAlchemy.\n",
      "  sales = pd.read_sql('SELECT * FROM sales', connection)\n"
     ]
    }
   ],
   "source": [
    "with psycopg2.connect(\n",
    "            host = postgresql_home['host'],\n",
    "            user = postgresql_home['user'], \n",
    "            password = postgresql_home['password'],\n",
    "            database = 'competition_analysis'\n",
    "            ) as connection:\n",
    "    sales = pd.read_sql('SELECT * FROM sales', connection)"
   ]
  },
  {
   "cell_type": "code",
   "execution_count": 7,
   "id": "f37f5f87-c9ca-42e1-984a-4e0973d77611",
   "metadata": {},
   "outputs": [
    {
     "data": {
      "text/html": [
       "<div>\n",
       "<style scoped>\n",
       "    .dataframe tbody tr th:only-of-type {\n",
       "        vertical-align: middle;\n",
       "    }\n",
       "\n",
       "    .dataframe tbody tr th {\n",
       "        vertical-align: top;\n",
       "    }\n",
       "\n",
       "    .dataframe thead th {\n",
       "        text-align: right;\n",
       "    }\n",
       "</style>\n",
       "<table border=\"1\" class=\"dataframe\">\n",
       "  <thead>\n",
       "    <tr style=\"text-align: right;\">\n",
       "      <th></th>\n",
       "      <th>Дата</th>\n",
       "      <th>Артель</th>\n",
       "      <th>Плата</th>\n",
       "    </tr>\n",
       "  </thead>\n",
       "  <tbody>\n",
       "    <tr>\n",
       "      <th>0</th>\n",
       "      <td>2048-01-01</td>\n",
       "      <td>Каша из топора</td>\n",
       "      <td>10208.64</td>\n",
       "    </tr>\n",
       "    <tr>\n",
       "      <th>1</th>\n",
       "      <td>2048-01-01</td>\n",
       "      <td>Бабки Ёжки</td>\n",
       "      <td>21961.11</td>\n",
       "    </tr>\n",
       "    <tr>\n",
       "      <th>2</th>\n",
       "      <td>2048-01-01</td>\n",
       "      <td>Хоббитонские угощения</td>\n",
       "      <td>6905.58</td>\n",
       "    </tr>\n",
       "    <tr>\n",
       "      <th>3</th>\n",
       "      <td>2048-01-01</td>\n",
       "      <td>Дырявый котёл</td>\n",
       "      <td>4571.70</td>\n",
       "    </tr>\n",
       "    <tr>\n",
       "      <th>4</th>\n",
       "      <td>2048-01-01</td>\n",
       "      <td>Ёлки-палки</td>\n",
       "      <td>15124.69</td>\n",
       "    </tr>\n",
       "  </tbody>\n",
       "</table>\n",
       "</div>"
      ],
      "text/plain": [
       "         Дата                 Артель     Плата\n",
       "0  2048-01-01         Каша из топора  10208.64\n",
       "1  2048-01-01             Бабки Ёжки  21961.11\n",
       "2  2048-01-01  Хоббитонские угощения   6905.58\n",
       "3  2048-01-01          Дырявый котёл   4571.70\n",
       "4  2048-01-01             Ёлки-палки  15124.69"
      ]
     },
     "execution_count": 7,
     "metadata": {},
     "output_type": "execute_result"
    }
   ],
   "source": [
    "sales.head()"
   ]
  },
  {
   "cell_type": "code",
   "execution_count": null,
   "id": "5cb6b3b1-c752-4e4e-8eb8-0804ab6f4aec",
   "metadata": {},
   "outputs": [],
   "source": []
  },
  {
   "cell_type": "markdown",
   "id": "6e6fd72d-06ba-47b6-a6e5-313d17301d17",
   "metadata": {},
   "source": [
    "transform. Сделаем \"куб\" Чеболь-Промысел-Царство"
   ]
  },
  {
   "cell_type": "code",
   "execution_count": 42,
   "id": "bf9c5ddd-4fad-4a1f-b61d-ccbff23a59cc",
   "metadata": {},
   "outputs": [
    {
     "data": {
      "text/html": [
       "<div>\n",
       "<style scoped>\n",
       "    .dataframe tbody tr th:only-of-type {\n",
       "        vertical-align: middle;\n",
       "    }\n",
       "\n",
       "    .dataframe tbody tr th {\n",
       "        vertical-align: top;\n",
       "    }\n",
       "\n",
       "    .dataframe thead th {\n",
       "        text-align: right;\n",
       "    }\n",
       "</style>\n",
       "<table border=\"1\" class=\"dataframe\">\n",
       "  <thead>\n",
       "    <tr style=\"text-align: right;\">\n",
       "      <th></th>\n",
       "      <th>Чеболь</th>\n",
       "      <th>Промысел</th>\n",
       "      <th>Царство</th>\n",
       "      <th>Плата</th>\n",
       "    </tr>\n",
       "  </thead>\n",
       "  <tbody>\n",
       "    <tr>\n",
       "      <th>0</th>\n",
       "      <td>Дуремар</td>\n",
       "      <td>артефакторика</td>\n",
       "      <td>Лукоморье</td>\n",
       "      <td>54196.00</td>\n",
       "    </tr>\n",
       "    <tr>\n",
       "      <th>1</th>\n",
       "      <td>Дуремар</td>\n",
       "      <td>артефакторика</td>\n",
       "      <td>Нарния</td>\n",
       "      <td>126804.89</td>\n",
       "    </tr>\n",
       "    <tr>\n",
       "      <th>2</th>\n",
       "      <td>Дуремар</td>\n",
       "      <td>артефакторика</td>\n",
       "      <td>Тридесятое</td>\n",
       "      <td>110733.37</td>\n",
       "    </tr>\n",
       "    <tr>\n",
       "      <th>3</th>\n",
       "      <td>Дуремар</td>\n",
       "      <td>всячина</td>\n",
       "      <td>Лукоморье</td>\n",
       "      <td>74514.85</td>\n",
       "    </tr>\n",
       "    <tr>\n",
       "      <th>4</th>\n",
       "      <td>Дуремар</td>\n",
       "      <td>всячина</td>\n",
       "      <td>Нарния</td>\n",
       "      <td>24891.29</td>\n",
       "    </tr>\n",
       "  </tbody>\n",
       "</table>\n",
       "</div>"
      ],
      "text/plain": [
       "    Чеболь       Промысел     Царство      Плата\n",
       "0  Дуремар  артефакторика   Лукоморье   54196.00\n",
       "1  Дуремар  артефакторика      Нарния  126804.89\n",
       "2  Дуремар  артефакторика  Тридесятое  110733.37\n",
       "3  Дуремар        всячина   Лукоморье   74514.85\n",
       "4  Дуремар        всячина      Нарния   24891.29"
      ]
     },
     "execution_count": 42,
     "metadata": {},
     "output_type": "execute_result"
    }
   ],
   "source": [
    "cube = pd.read_csv('cube.csv')\n",
    "cube.head()"
   ]
  },
  {
   "cell_type": "code",
   "execution_count": 122,
   "id": "7dc72dd4-d346-477c-8f0c-2716b56d9936",
   "metadata": {},
   "outputs": [],
   "source": [
    "cube = cube.rename(columns={'Плата': 'Сумма_продаж'})"
   ]
  },
  {
   "cell_type": "code",
   "execution_count": 124,
   "id": "254b5389-16e2-4f03-81f1-b78d914c724b",
   "metadata": {},
   "outputs": [
    {
     "data": {
      "text/html": [
       "<div>\n",
       "<style scoped>\n",
       "    .dataframe tbody tr th:only-of-type {\n",
       "        vertical-align: middle;\n",
       "    }\n",
       "\n",
       "    .dataframe tbody tr th {\n",
       "        vertical-align: top;\n",
       "    }\n",
       "\n",
       "    .dataframe thead th {\n",
       "        text-align: right;\n",
       "    }\n",
       "</style>\n",
       "<table border=\"1\" class=\"dataframe\">\n",
       "  <thead>\n",
       "    <tr style=\"text-align: right;\">\n",
       "      <th></th>\n",
       "      <th>Чеболь</th>\n",
       "      <th>Промысел</th>\n",
       "      <th>Царство</th>\n",
       "      <th>Сумма_продаж</th>\n",
       "    </tr>\n",
       "  </thead>\n",
       "  <tbody>\n",
       "    <tr>\n",
       "      <th>0</th>\n",
       "      <td>Дуремар</td>\n",
       "      <td>артефакторика</td>\n",
       "      <td>Лукоморье</td>\n",
       "      <td>54196.00</td>\n",
       "    </tr>\n",
       "    <tr>\n",
       "      <th>1</th>\n",
       "      <td>Дуремар</td>\n",
       "      <td>артефакторика</td>\n",
       "      <td>Нарния</td>\n",
       "      <td>126804.89</td>\n",
       "    </tr>\n",
       "    <tr>\n",
       "      <th>2</th>\n",
       "      <td>Дуремар</td>\n",
       "      <td>артефакторика</td>\n",
       "      <td>Тридесятое</td>\n",
       "      <td>110733.37</td>\n",
       "    </tr>\n",
       "    <tr>\n",
       "      <th>3</th>\n",
       "      <td>Дуремар</td>\n",
       "      <td>всячина</td>\n",
       "      <td>Лукоморье</td>\n",
       "      <td>74514.85</td>\n",
       "    </tr>\n",
       "    <tr>\n",
       "      <th>4</th>\n",
       "      <td>Дуремар</td>\n",
       "      <td>всячина</td>\n",
       "      <td>Нарния</td>\n",
       "      <td>24891.29</td>\n",
       "    </tr>\n",
       "  </tbody>\n",
       "</table>\n",
       "</div>"
      ],
      "text/plain": [
       "    Чеболь       Промысел     Царство  Сумма_продаж\n",
       "0  Дуремар  артефакторика   Лукоморье      54196.00\n",
       "1  Дуремар  артефакторика      Нарния     126804.89\n",
       "2  Дуремар  артефакторика  Тридесятое     110733.37\n",
       "3  Дуремар        всячина   Лукоморье      74514.85\n",
       "4  Дуремар        всячина      Нарния      24891.29"
      ]
     },
     "execution_count": 124,
     "metadata": {},
     "output_type": "execute_result"
    }
   ],
   "source": [
    "cube.head()"
   ]
  },
  {
   "cell_type": "code",
   "execution_count": null,
   "id": "b8cfbb96-a1c5-48c2-a207-550ae46facc8",
   "metadata": {},
   "outputs": [],
   "source": []
  },
  {
   "cell_type": "markdown",
   "id": "e48e3130-cc9c-472a-98bb-dd32cbf050f3",
   "metadata": {},
   "source": [
    "запишем полученную таблицу в БД Postgres"
   ]
  },
  {
   "cell_type": "code",
   "execution_count": 11,
   "id": "62be6be5-4485-4dce-b9f0-de18d9d40638",
   "metadata": {},
   "outputs": [],
   "source": [
    "sql_create_query = '''\n",
    "    CREATE TABLE IF NOT EXISTS cube (\n",
    "        Чеболь       VARCHAR(64), \n",
    "        Промысел     VARCHAR(64), \n",
    "        Царство      VARCHAR(64), \n",
    "        Сумма_продаж DECIMAL(10, 2)\n",
    "    )\n",
    "'''"
   ]
  },
  {
   "cell_type": "code",
   "execution_count": 13,
   "id": "792ccdf2-1b24-48d1-aba0-cad2f3cafbdc",
   "metadata": {},
   "outputs": [],
   "source": [
    "with psycopg2.connect(\n",
    "            host=postgresql_home['host'],\n",
    "            user=postgresql_home['user'], \n",
    "            password=postgresql_home['password'],\n",
    "            database='competition_analysis'\n",
    "            ) as connection:\n",
    "    with connection.cursor() as cursor:\n",
    "        cursor.execute(sql_create_query)"
   ]
  },
  {
   "cell_type": "code",
   "execution_count": null,
   "id": "ebe08eb3-e01f-480d-a14d-25d8f102ddb9",
   "metadata": {},
   "outputs": [],
   "source": []
  },
  {
   "cell_type": "code",
   "execution_count": 126,
   "id": "77b83155-53c5-4bfc-b5a5-05de54287d28",
   "metadata": {
    "scrolled": true
   },
   "outputs": [],
   "source": [
    "url_object = URL.create(\n",
    "    \"postgresql+psycopg2\",\n",
    "    username=postgresql_home['user'],\n",
    "    password=postgresql_home['password'], \n",
    "    host=postgresql_home['host'],\n",
    "    port=postgresql_home['port'],\n",
    "    database='competition_analysis',\n",
    ")"
   ]
  },
  {
   "cell_type": "code",
   "execution_count": 130,
   "id": "6e7ce506-fc6b-47a9-97aa-c5535a3e051a",
   "metadata": {},
   "outputs": [],
   "source": [
    "engine = create_engine(url_object)"
   ]
  },
  {
   "cell_type": "code",
   "execution_count": 136,
   "id": "db121603-00e3-4be2-8dd9-01a4a86fb3dd",
   "metadata": {},
   "outputs": [
    {
     "data": {
      "text/plain": [
       "42"
      ]
     },
     "execution_count": 136,
     "metadata": {},
     "output_type": "execute_result"
    }
   ],
   "source": [
    "cube.to_sql(\n",
    "    name='cube', # имя таблицы\n",
    "    con=engine,  # движок\n",
    "    if_exists=\"replace\", # если в таблице данные уже есть, заменяем их\n",
    "    index=False # без индекса датафрейма\n",
    ")"
   ]
  },
  {
   "cell_type": "code",
   "execution_count": null,
   "id": "c7f2001e-bc2c-483d-8eaa-a63097c826c1",
   "metadata": {},
   "outputs": [],
   "source": []
  },
  {
   "cell_type": "code",
   "execution_count": null,
   "id": "7bbee9dd-e0cc-490e-8542-1f0e49cfad32",
   "metadata": {},
   "outputs": [],
   "source": []
  },
  {
   "cell_type": "code",
   "execution_count": null,
   "id": "801a1c4d-3233-4ce9-ab60-7fd47d93d3ab",
   "metadata": {},
   "outputs": [],
   "source": []
  }
 ],
 "metadata": {
  "kernelspec": {
   "display_name": "Python 3 (ipykernel)",
   "language": "python",
   "name": "python3"
  },
  "language_info": {
   "codemirror_mode": {
    "name": "ipython",
    "version": 3
   },
   "file_extension": ".py",
   "mimetype": "text/x-python",
   "name": "python",
   "nbconvert_exporter": "python",
   "pygments_lexer": "ipython3",
   "version": "3.9.13"
  }
 },
 "nbformat": 4,
 "nbformat_minor": 5
}
