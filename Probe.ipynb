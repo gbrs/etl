{
 "cells": [
  {
   "cell_type": "code",
   "execution_count": 1,
   "id": "dad6384b-28b0-446d-9679-5c8db50aa54e",
   "metadata": {},
   "outputs": [],
   "source": [
    "import numpy as np\n",
    "import pandas as pd\n",
    "import matplotlib.pyplot as plt\n",
    "import seaborn as sns"
   ]
  },
  {
   "cell_type": "code",
   "execution_count": 2,
   "id": "31995c32-d149-4e9c-9d8f-cdccfde7f05e",
   "metadata": {},
   "outputs": [],
   "source": [
    "import psycopg2"
   ]
  },
  {
   "cell_type": "code",
   "execution_count": 97,
   "id": "3058994e-1579-4de1-8f83-b4fd0c68cd1a",
   "metadata": {},
   "outputs": [
    {
     "name": "stderr",
     "output_type": "stream",
     "text": [
      "C:\\Users\\Боря\\AppData\\Local\\Temp\\ipykernel_8616\\3356721468.py:8: UserWarning: pandas only supports SQLAlchemy connectable (engine/connection) or database string URI or sqlite3 DBAPI2 connection. Other DBAPI2 objects are not tested. Please consider using SQLAlchemy.\n",
      "  sales = pd.read_sql('SELECT * FROM sales', connection)\n"
     ]
    }
   ],
   "source": [
    "from config import postgresql_home \n",
    "with psycopg2.connect(\n",
    "            host = postgresql_home['host'],\n",
    "            user = postgresql_home['user'], \n",
    "            password = postgresql_home['password'],\n",
    "            database = 'competition_analysis'\n",
    "            ) as connection:\n",
    "    sales = pd.read_sql('SELECT * FROM sales', connection)"
   ]
  },
  {
   "cell_type": "code",
   "execution_count": 99,
   "id": "f37f5f87-c9ca-42e1-984a-4e0973d77611",
   "metadata": {},
   "outputs": [
    {
     "data": {
      "text/html": [
       "<div>\n",
       "<style scoped>\n",
       "    .dataframe tbody tr th:only-of-type {\n",
       "        vertical-align: middle;\n",
       "    }\n",
       "\n",
       "    .dataframe tbody tr th {\n",
       "        vertical-align: top;\n",
       "    }\n",
       "\n",
       "    .dataframe thead th {\n",
       "        text-align: right;\n",
       "    }\n",
       "</style>\n",
       "<table border=\"1\" class=\"dataframe\">\n",
       "  <thead>\n",
       "    <tr style=\"text-align: right;\">\n",
       "      <th></th>\n",
       "      <th>Дата</th>\n",
       "      <th>Артель</th>\n",
       "      <th>Плата</th>\n",
       "    </tr>\n",
       "  </thead>\n",
       "  <tbody>\n",
       "    <tr>\n",
       "      <th>0</th>\n",
       "      <td>2048-01-01</td>\n",
       "      <td>Каша из топора</td>\n",
       "      <td>10208.64</td>\n",
       "    </tr>\n",
       "    <tr>\n",
       "      <th>1</th>\n",
       "      <td>2048-01-01</td>\n",
       "      <td>Бабки Ёжки</td>\n",
       "      <td>21961.11</td>\n",
       "    </tr>\n",
       "    <tr>\n",
       "      <th>2</th>\n",
       "      <td>2048-01-01</td>\n",
       "      <td>Хоббитонские угощения</td>\n",
       "      <td>6905.58</td>\n",
       "    </tr>\n",
       "    <tr>\n",
       "      <th>3</th>\n",
       "      <td>2048-01-01</td>\n",
       "      <td>Дырявый котёл</td>\n",
       "      <td>4571.70</td>\n",
       "    </tr>\n",
       "    <tr>\n",
       "      <th>4</th>\n",
       "      <td>2048-01-01</td>\n",
       "      <td>Ёлки-палки</td>\n",
       "      <td>15124.69</td>\n",
       "    </tr>\n",
       "  </tbody>\n",
       "</table>\n",
       "</div>"
      ],
      "text/plain": [
       "         Дата                 Артель     Плата\n",
       "0  2048-01-01         Каша из топора  10208.64\n",
       "1  2048-01-01             Бабки Ёжки  21961.11\n",
       "2  2048-01-01  Хоббитонские угощения   6905.58\n",
       "3  2048-01-01          Дырявый котёл   4571.70\n",
       "4  2048-01-01             Ёлки-палки  15124.69"
      ]
     },
     "execution_count": 99,
     "metadata": {},
     "output_type": "execute_result"
    }
   ],
   "source": [
    "sales.head()"
   ]
  },
  {
   "cell_type": "code",
   "execution_count": null,
   "id": "62be6be5-4485-4dce-b9f0-de18d9d40638",
   "metadata": {},
   "outputs": [],
   "source": []
  },
  {
   "cell_type": "code",
   "execution_count": null,
   "id": "792ccdf2-1b24-48d1-aba0-cad2f3cafbdc",
   "metadata": {},
   "outputs": [],
   "source": []
  },
  {
   "cell_type": "code",
   "execution_count": null,
   "id": "db121603-00e3-4be2-8dd9-01a4a86fb3dd",
   "metadata": {},
   "outputs": [],
   "source": []
  },
  {
   "cell_type": "code",
   "execution_count": null,
   "id": "fec3ccf1-41be-4b05-93d0-a9d192a8747c",
   "metadata": {},
   "outputs": [],
   "source": []
  },
  {
   "cell_type": "code",
   "execution_count": null,
   "id": "c7f2001e-bc2c-483d-8eaa-a63097c826c1",
   "metadata": {},
   "outputs": [],
   "source": []
  },
  {
   "cell_type": "code",
   "execution_count": null,
   "id": "7bbee9dd-e0cc-490e-8542-1f0e49cfad32",
   "metadata": {},
   "outputs": [],
   "source": []
  },
  {
   "cell_type": "code",
   "execution_count": null,
   "id": "801a1c4d-3233-4ce9-ab60-7fd47d93d3ab",
   "metadata": {},
   "outputs": [],
   "source": []
  }
 ],
 "metadata": {
  "kernelspec": {
   "display_name": "Python [conda env:base] *",
   "language": "python",
   "name": "conda-base-py"
  },
  "language_info": {
   "codemirror_mode": {
    "name": "ipython",
    "version": 3
   },
   "file_extension": ".py",
   "mimetype": "text/x-python",
   "name": "python",
   "nbconvert_exporter": "python",
   "pygments_lexer": "ipython3",
   "version": "3.12.7"
  }
 },
 "nbformat": 4,
 "nbformat_minor": 5
}
