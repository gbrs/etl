{
 "cells": [
  {
   "cell_type": "code",
   "execution_count": 11,
   "id": "2f496d0d",
   "metadata": {},
   "outputs": [],
   "source": [
    "import numpy as np\n",
    "import pandas as pd\n",
    "import matplotlib.pyplot as plt\n",
    "import seaborn as sns"
   ]
  },
  {
   "cell_type": "code",
   "execution_count": 12,
   "id": "620e6df7",
   "metadata": {},
   "outputs": [],
   "source": [
    "import psycopg2\n",
    "from sqlalchemy import create_engine\n",
    "from sqlalchemy import URL"
   ]
  },
  {
   "cell_type": "code",
   "execution_count": 13,
   "metadata": {},
   "outputs": [],
   "source": [
    "from config import postgresql_home "
   ]
  },
  {
   "cell_type": "code",
   "execution_count": null,
   "id": "98d147fa",
   "metadata": {},
   "outputs": [],
   "source": []
  },
  {
   "cell_type": "code",
   "execution_count": 31,
   "id": "e24588dc",
   "metadata": {},
   "outputs": [],
   "source": [
    "file_name = 'orders'"
   ]
  },
  {
   "cell_type": "code",
   "execution_count": 35,
   "id": "f87fcb8e",
   "metadata": {},
   "outputs": [],
   "source": [
    "sql_create_query = '''\n",
    "    CREATE TABLE IF NOT EXISTS orders (\n",
    "        order_id        BIGINT, \n",
    "        product_id      INTEGER,\n",
    "        quantity        NUMERIC\n",
    "    )\n",
    "'''\n",
    "# bigint - 8-байтные целые числа"
   ]
  },
  {
   "cell_type": "code",
   "execution_count": 36,
   "id": "066ca255",
   "metadata": {},
   "outputs": [],
   "source": [
    "with psycopg2.connect(\n",
    "            host=postgresql_home['host'],\n",
    "            user=postgresql_home['username'], \n",
    "            password=postgresql_home['password'],\n",
    "            database=postgresql_home['database']\n",
    "            ) as connection:\n",
    "    with connection.cursor() as cursor:\n",
    "        cursor.execute(sql_create_query)"
   ]
  },
  {
   "cell_type": "code",
   "execution_count": 34,
   "id": "83c8230e",
   "metadata": {},
   "outputs": [],
   "source": [
    "engine = create_engine(URL.create(**postgresql_home))"
   ]
  },
  {
   "cell_type": "code",
   "execution_count": 37,
   "id": "72eab80b",
   "metadata": {},
   "outputs": [],
   "source": [
    "df = pd.read_csv(f'./data_ignored/{file_name}.csv')"
   ]
  },
  {
   "cell_type": "code",
   "execution_count": 40,
   "id": "8ecffeeb",
   "metadata": {},
   "outputs": [
    {
     "data": {
      "text/plain": [
       "852"
      ]
     },
     "execution_count": 40,
     "metadata": {},
     "output_type": "execute_result"
    }
   ],
   "source": [
    "df.to_sql(\n",
    "    name=file_name, # имя таблицы\n",
    "    con=engine,  # движок\n",
    "    if_exists=\"replace\", # если в таблице данные уже есть, заменяем их\n",
    "    index=False # без индекса датафрейма\n",
    ")"
   ]
  },
  {
   "cell_type": "code",
   "execution_count": 42,
   "id": "4d8fc4c5",
   "metadata": {},
   "outputs": [
    {
     "data": {
      "text/plain": [
       "order_id      int64\n",
       "product_id    int64\n",
       "quantity      int64\n",
       "dtype: object"
      ]
     },
     "execution_count": 42,
     "metadata": {},
     "output_type": "execute_result"
    }
   ],
   "source": [
    "df.dtypes"
   ]
  },
  {
   "cell_type": "code",
   "execution_count": null,
   "id": "894bb43b",
   "metadata": {},
   "outputs": [],
   "source": []
  },
  {
   "cell_type": "code",
   "execution_count": null,
   "id": "2c823e91",
   "metadata": {},
   "outputs": [],
   "source": []
  },
  {
   "cell_type": "code",
   "execution_count": null,
   "id": "f47a2a67",
   "metadata": {},
   "outputs": [],
   "source": []
  },
  {
   "cell_type": "code",
   "execution_count": null,
   "id": "3ebd0deb",
   "metadata": {},
   "outputs": [],
   "source": []
  },
  {
   "cell_type": "code",
   "execution_count": null,
   "id": "f5d7bd77",
   "metadata": {},
   "outputs": [],
   "source": []
  },
  {
   "cell_type": "code",
   "execution_count": null,
   "id": "8b4ce5ea",
   "metadata": {},
   "outputs": [],
   "source": []
  },
  {
   "cell_type": "code",
   "execution_count": null,
   "id": "bdba1c9f",
   "metadata": {},
   "outputs": [],
   "source": []
  },
  {
   "cell_type": "code",
   "execution_count": null,
   "id": "4f023a88",
   "metadata": {},
   "outputs": [],
   "source": []
  },
  {
   "cell_type": "code",
   "execution_count": null,
   "id": "2c8a66e6",
   "metadata": {},
   "outputs": [],
   "source": []
  }
 ],
 "metadata": {
  "kernelspec": {
   "display_name": "base",
   "language": "python",
   "name": "python3"
  },
  "language_info": {
   "codemirror_mode": {
    "name": "ipython",
    "version": 3
   },
   "file_extension": ".py",
   "mimetype": "text/x-python",
   "name": "python",
   "nbconvert_exporter": "python",
   "pygments_lexer": "ipython3",
   "version": "3.12.7"
  }
 },
 "nbformat": 4,
 "nbformat_minor": 5
}
