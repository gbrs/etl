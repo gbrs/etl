{
 "cells": [
  {
   "cell_type": "code",
   "execution_count": 2,
   "id": "3556c76b-fd47-44ed-a5b0-ea4ed7444650",
   "metadata": {},
   "outputs": [],
   "source": [
    "import numpy as np\n",
    "import pandas as pd\n",
    "import matplotlib.pyplot as plt\n",
    "import seaborn as sns"
   ]
  },
  {
   "cell_type": "code",
   "execution_count": 3,
   "id": "debdab24-1fe7-45fa-92d8-a11fb65a7366",
   "metadata": {},
   "outputs": [],
   "source": [
    "import mysql.connector\n",
    "import psycopg2\n",
    "from sqlalchemy import create_engine\n",
    "from sqlalchemy import URL"
   ]
  },
  {
   "cell_type": "code",
   "execution_count": 4,
   "id": "8f8cabed-92e3-475c-b19d-640e3c1bfea9",
   "metadata": {},
   "outputs": [],
   "source": [
    "from config import mysql_qm \n",
    "from config import postgresql_home "
   ]
  },
  {
   "cell_type": "code",
   "execution_count": null,
   "id": "2524f0c9-7a34-482f-90c6-2153a3057f52",
   "metadata": {},
   "outputs": [],
   "source": []
  },
  {
   "cell_type": "code",
   "execution_count": 8,
   "id": "b3dd6119-d831-4f7a-9fd0-8d6653dcf75a",
   "metadata": {},
   "outputs": [],
   "source": [
    "sql_query = '''\n",
    "    SELECT\n",
    "        *\n",
    "    FROM\n",
    "        sales \n",
    "        INNER JOIN companies USING(Артель)\n",
    "        INNER JOIN chaebols USING(Артель)\n",
    "        INNER JOIN industries USING(Товар) \n",
    "        INNER JOIN regions USING(Град)\n",
    "'''"
   ]
  },
  {
   "cell_type": "code",
   "execution_count": 9,
   "id": "30503084-904c-4dd4-b84d-a2dd13698825",
   "metadata": {},
   "outputs": [
    {
     "name": "stderr",
     "output_type": "stream",
     "text": [
      "C:\\Users\\Боря\\AppData\\Local\\Temp\\ipykernel_6584\\2949249702.py:7: UserWarning: pandas only supports SQLAlchemy connectable (engine/connection) or database string URI or sqlite3 DBAPI2 connection. Other DBAPI2 objects are not tested. Please consider using SQLAlchemy.\n",
      "  df = pd.read_sql(sql_query, connection)\n"
     ]
    }
   ],
   "source": [
    "with mysql.connector.connect(\n",
    "            host = mysql_qm['host'],\n",
    "            user = mysql_qm['user'], \n",
    "            password = mysql_qm['password'],\n",
    "            database = 'kvadromash_delete'\n",
    "            ) as connection:\n",
    "    df = pd.read_sql(sql_query, connection)"
   ]
  },
  {
   "cell_type": "code",
   "execution_count": 12,
   "id": "cf7bda11-f9ae-492b-a013-1a4687b338c1",
   "metadata": {
    "scrolled": true
   },
   "outputs": [],
   "source": [
    "df = df[['Дата', 'Плата', 'Артель', 'Чеболь', 'Товар', 'Промысел', 'Град', 'Царство', ]]"
   ]
  },
  {
   "cell_type": "code",
   "execution_count": 14,
   "id": "faab418d-d418-48eb-8bd7-0dd899f887dc",
   "metadata": {},
   "outputs": [],
   "source": [
    "df.Дата = pd.to_datetime(df.Дата)"
   ]
  },
  {
   "cell_type": "code",
   "execution_count": 16,
   "id": "ec401b1e-980c-448c-8215-82fab34985e9",
   "metadata": {},
   "outputs": [
    {
     "data": {
      "text/html": [
       "<div>\n",
       "<style scoped>\n",
       "    .dataframe tbody tr th:only-of-type {\n",
       "        vertical-align: middle;\n",
       "    }\n",
       "\n",
       "    .dataframe tbody tr th {\n",
       "        vertical-align: top;\n",
       "    }\n",
       "\n",
       "    .dataframe thead th {\n",
       "        text-align: right;\n",
       "    }\n",
       "</style>\n",
       "<table border=\"1\" class=\"dataframe\">\n",
       "  <thead>\n",
       "    <tr style=\"text-align: right;\">\n",
       "      <th></th>\n",
       "      <th>Дата</th>\n",
       "      <th>Плата</th>\n",
       "      <th>Артель</th>\n",
       "      <th>Чеболь</th>\n",
       "      <th>Товар</th>\n",
       "      <th>Промысел</th>\n",
       "      <th>Град</th>\n",
       "      <th>Царство</th>\n",
       "    </tr>\n",
       "  </thead>\n",
       "  <tbody>\n",
       "    <tr>\n",
       "      <th>0</th>\n",
       "      <td>2048-01-01</td>\n",
       "      <td>10208.64</td>\n",
       "      <td>Каша из топора</td>\n",
       "      <td>Дуремар</td>\n",
       "      <td>веган</td>\n",
       "      <td>яства</td>\n",
       "      <td>Пушград</td>\n",
       "      <td>Лукоморье</td>\n",
       "    </tr>\n",
       "    <tr>\n",
       "      <th>1</th>\n",
       "      <td>2048-01-01</td>\n",
       "      <td>21961.11</td>\n",
       "      <td>Бабки Ёжки</td>\n",
       "      <td>Синдбад</td>\n",
       "      <td>порошки</td>\n",
       "      <td>зелья</td>\n",
       "      <td>Пушград</td>\n",
       "      <td>Лукоморье</td>\n",
       "    </tr>\n",
       "    <tr>\n",
       "      <th>2</th>\n",
       "      <td>2048-01-01</td>\n",
       "      <td>6905.58</td>\n",
       "      <td>Хоббитонские угощения</td>\n",
       "      <td>Синдбад</td>\n",
       "      <td>сласти</td>\n",
       "      <td>яства</td>\n",
       "      <td>Пушград</td>\n",
       "      <td>Лукоморье</td>\n",
       "    </tr>\n",
       "    <tr>\n",
       "      <th>3</th>\n",
       "      <td>2048-01-01</td>\n",
       "      <td>4571.70</td>\n",
       "      <td>Дырявый котёл</td>\n",
       "      <td>Дуремар</td>\n",
       "      <td>киселя</td>\n",
       "      <td>яства</td>\n",
       "      <td>Лукоморск</td>\n",
       "      <td>Лукоморье</td>\n",
       "    </tr>\n",
       "    <tr>\n",
       "      <th>4</th>\n",
       "      <td>2048-01-01</td>\n",
       "      <td>15124.69</td>\n",
       "      <td>Ёлки-палки</td>\n",
       "      <td>Синдбад</td>\n",
       "      <td>палочки</td>\n",
       "      <td>артефакторика</td>\n",
       "      <td>Тумантархан</td>\n",
       "      <td>Тмутаракань</td>\n",
       "    </tr>\n",
       "  </tbody>\n",
       "</table>\n",
       "</div>"
      ],
      "text/plain": [
       "        Дата     Плата                 Артель   Чеболь    Товар  \\\n",
       "0 2048-01-01  10208.64         Каша из топора  Дуремар    веган   \n",
       "1 2048-01-01  21961.11             Бабки Ёжки  Синдбад  порошки   \n",
       "2 2048-01-01   6905.58  Хоббитонские угощения  Синдбад   сласти   \n",
       "3 2048-01-01   4571.70          Дырявый котёл  Дуремар   киселя   \n",
       "4 2048-01-01  15124.69             Ёлки-палки  Синдбад  палочки   \n",
       "\n",
       "        Промысел         Град      Царство  \n",
       "0          яства      Пушград    Лукоморье  \n",
       "1          зелья      Пушград    Лукоморье  \n",
       "2          яства      Пушград    Лукоморье  \n",
       "3          яства    Лукоморск    Лукоморье  \n",
       "4  артефакторика  Тумантархан  Тмутаракань  "
      ]
     },
     "execution_count": 16,
     "metadata": {},
     "output_type": "execute_result"
    }
   ],
   "source": [
    "df.head()"
   ]
  },
  {
   "cell_type": "code",
   "execution_count": null,
   "id": "3814dc28-de9e-4563-beba-be7aecf40902",
   "metadata": {},
   "outputs": [],
   "source": []
  },
  {
   "cell_type": "code",
   "execution_count": 18,
   "id": "bcfce2a9-8146-4689-a367-3e47e993a160",
   "metadata": {},
   "outputs": [],
   "source": [
    "cube = df.groupby(['Чеболь', 'Промысел', 'Царство', ]).Плата.sum().round(2).reset_index()"
   ]
  },
  {
   "cell_type": "code",
   "execution_count": 20,
   "id": "f374fb8a-c0ab-4b07-8fb0-fbc353b339d5",
   "metadata": {},
   "outputs": [],
   "source": [
    "cube = cube.rename(columns={'Плата': 'Сумма_продаж'})"
   ]
  },
  {
   "cell_type": "code",
   "execution_count": 22,
   "id": "296bf4f0-0139-4602-95f9-145372be0aa4",
   "metadata": {},
   "outputs": [
    {
     "data": {
      "text/html": [
       "<div>\n",
       "<style scoped>\n",
       "    .dataframe tbody tr th:only-of-type {\n",
       "        vertical-align: middle;\n",
       "    }\n",
       "\n",
       "    .dataframe tbody tr th {\n",
       "        vertical-align: top;\n",
       "    }\n",
       "\n",
       "    .dataframe thead th {\n",
       "        text-align: right;\n",
       "    }\n",
       "</style>\n",
       "<table border=\"1\" class=\"dataframe\">\n",
       "  <thead>\n",
       "    <tr style=\"text-align: right;\">\n",
       "      <th></th>\n",
       "      <th>Чеболь</th>\n",
       "      <th>Промысел</th>\n",
       "      <th>Царство</th>\n",
       "      <th>Сумма_продаж</th>\n",
       "    </tr>\n",
       "  </thead>\n",
       "  <tbody>\n",
       "    <tr>\n",
       "      <th>0</th>\n",
       "      <td>Дуремар</td>\n",
       "      <td>артефакторика</td>\n",
       "      <td>Лукоморье</td>\n",
       "      <td>54196.00</td>\n",
       "    </tr>\n",
       "    <tr>\n",
       "      <th>1</th>\n",
       "      <td>Дуремар</td>\n",
       "      <td>артефакторика</td>\n",
       "      <td>Нарния</td>\n",
       "      <td>126804.89</td>\n",
       "    </tr>\n",
       "    <tr>\n",
       "      <th>2</th>\n",
       "      <td>Дуремар</td>\n",
       "      <td>артефакторика</td>\n",
       "      <td>Тридесятое</td>\n",
       "      <td>110733.37</td>\n",
       "    </tr>\n",
       "    <tr>\n",
       "      <th>3</th>\n",
       "      <td>Дуремар</td>\n",
       "      <td>всячина</td>\n",
       "      <td>Лукоморье</td>\n",
       "      <td>74514.85</td>\n",
       "    </tr>\n",
       "    <tr>\n",
       "      <th>4</th>\n",
       "      <td>Дуремар</td>\n",
       "      <td>всячина</td>\n",
       "      <td>Нарния</td>\n",
       "      <td>24891.29</td>\n",
       "    </tr>\n",
       "  </tbody>\n",
       "</table>\n",
       "</div>"
      ],
      "text/plain": [
       "    Чеболь       Промысел     Царство  Сумма_продаж\n",
       "0  Дуремар  артефакторика   Лукоморье      54196.00\n",
       "1  Дуремар  артефакторика      Нарния     126804.89\n",
       "2  Дуремар  артефакторика  Тридесятое     110733.37\n",
       "3  Дуремар        всячина   Лукоморье      74514.85\n",
       "4  Дуремар        всячина      Нарния      24891.29"
      ]
     },
     "execution_count": 22,
     "metadata": {},
     "output_type": "execute_result"
    }
   ],
   "source": [
    "cube.head()"
   ]
  },
  {
   "cell_type": "code",
   "execution_count": null,
   "id": "07361386-16a4-464a-9d33-6ac63d160e59",
   "metadata": {},
   "outputs": [],
   "source": []
  },
  {
   "cell_type": "markdown",
   "id": "5ff5cbea-e8f2-4d0b-96cb-bea68222cd34",
   "metadata": {},
   "source": [
    "запишем полученную таблицу в БД Postgres"
   ]
  },
  {
   "cell_type": "code",
   "execution_count": 24,
   "id": "98149152-96b4-47e1-a364-494e8a8f23c7",
   "metadata": {},
   "outputs": [],
   "source": [
    "sql_create_query = '''\n",
    "    CREATE TABLE IF NOT EXISTS cube (\n",
    "        Чеболь       VARCHAR(64), \n",
    "        Промысел     VARCHAR(64), \n",
    "        Царство      VARCHAR(64), \n",
    "        Сумма_продаж DECIMAL(10, 2)\n",
    "    )\n",
    "'''"
   ]
  },
  {
   "cell_type": "code",
   "execution_count": 26,
   "id": "1ba3ffd8-9171-4f2f-bee3-f68edb9bd029",
   "metadata": {},
   "outputs": [],
   "source": [
    "with psycopg2.connect(\n",
    "            host=postgresql_home['host'],\n",
    "            user=postgresql_home['user'], \n",
    "            password=postgresql_home['password'],\n",
    "            database='competition_analysis'\n",
    "            ) as connection:\n",
    "    with connection.cursor() as cursor:\n",
    "        cursor.execute(sql_create_query)"
   ]
  },
  {
   "cell_type": "code",
   "execution_count": 28,
   "id": "6006eb81-08af-4f76-bd8d-1324c73a2c0e",
   "metadata": {
    "scrolled": true
   },
   "outputs": [],
   "source": [
    "url_object = URL.create(\n",
    "    \"postgresql+psycopg2\",\n",
    "    username=postgresql_home['user'],\n",
    "    password=postgresql_home['password'], \n",
    "    host=postgresql_home['host'],\n",
    "    port=postgresql_home['port'],\n",
    "    database='competition_analysis',\n",
    ")"
   ]
  },
  {
   "cell_type": "code",
   "execution_count": 30,
   "id": "332f8f0a-fd51-4daf-88a6-78503147512d",
   "metadata": {},
   "outputs": [],
   "source": [
    "engine = create_engine(url_object)"
   ]
  },
  {
   "cell_type": "code",
   "execution_count": 32,
   "id": "c55fa419-abb1-49d2-90f2-13e29df50092",
   "metadata": {},
   "outputs": [
    {
     "data": {
      "text/plain": [
       "42"
      ]
     },
     "execution_count": 32,
     "metadata": {},
     "output_type": "execute_result"
    }
   ],
   "source": [
    "cube.to_sql(\n",
    "    name='cube', # имя таблицы\n",
    "    con=engine,  # движок\n",
    "    if_exists=\"replace\", # если в таблице данные уже есть, заменяем их\n",
    "    index=False # без индекса датафрейма\n",
    ")"
   ]
  },
  {
   "cell_type": "code",
   "execution_count": null,
   "id": "ec76edaf-4ea6-43fd-aef9-c33d71fd0f6b",
   "metadata": {},
   "outputs": [],
   "source": []
  },
  {
   "cell_type": "code",
   "execution_count": null,
   "id": "ac5e652b-43d8-46c0-a528-2739f6934c08",
   "metadata": {},
   "outputs": [],
   "source": []
  },
  {
   "cell_type": "code",
   "execution_count": null,
   "id": "50e9160b-a16b-4c5e-9915-447d5631a0d8",
   "metadata": {},
   "outputs": [],
   "source": []
  },
  {
   "cell_type": "code",
   "execution_count": null,
   "id": "1dd77ea4-96fe-47ad-99cd-4ba791c2df92",
   "metadata": {},
   "outputs": [],
   "source": []
  },
  {
   "cell_type": "code",
   "execution_count": null,
   "id": "e7ba26e5-d86e-4e0d-9e51-23444a69ef3a",
   "metadata": {},
   "outputs": [],
   "source": []
  },
  {
   "cell_type": "code",
   "execution_count": null,
   "id": "deddaab6-b0ed-4e3f-a17c-f2b0ff439232",
   "metadata": {},
   "outputs": [],
   "source": []
  },
  {
   "cell_type": "code",
   "execution_count": null,
   "id": "f832d445-ee0d-41ce-b0d4-8af7fb1f4ad7",
   "metadata": {},
   "outputs": [],
   "source": []
  },
  {
   "cell_type": "code",
   "execution_count": null,
   "id": "c32d0cc7-21f0-47ea-9fad-261278a202b0",
   "metadata": {},
   "outputs": [],
   "source": []
  },
  {
   "cell_type": "code",
   "execution_count": null,
   "id": "7a2e645e-c178-4492-a916-c317520a9459",
   "metadata": {},
   "outputs": [],
   "source": []
  },
  {
   "cell_type": "code",
   "execution_count": null,
   "id": "86fcdab6-b72b-4136-addb-8d9bae4ab6d2",
   "metadata": {},
   "outputs": [],
   "source": []
  },
  {
   "cell_type": "code",
   "execution_count": null,
   "id": "74eefefc-51ec-43ab-9aab-8db96d607903",
   "metadata": {},
   "outputs": [],
   "source": []
  },
  {
   "cell_type": "code",
   "execution_count": null,
   "id": "b32dda8e-087f-40c6-bacb-dd54e5db029f",
   "metadata": {
    "tags": []
   },
   "outputs": [],
   "source": [
    "companies_by_months = sales.pivot_table('Плата', 'Артель', sales.Дата.dt.to_period('M'), aggfunc='sum').reset_index()\n",
    "companies_by_months.head()\n",
    "companies_by_months.to_csv('companies_by_months.csv', index=False)"
   ]
  },
  {
   "cell_type": "markdown",
   "id": "97dc4675-21c0-406d-8de8-a0104e86c302",
   "metadata": {},
   "source": [
    "Проблема с мерцанием экрана: Settings Editor → Notebook → Windowing mode - Defer"
   ]
  }
 ],
 "metadata": {
  "kernelspec": {
   "display_name": "Python [conda env:base] *",
   "language": "python",
   "name": "conda-base-py"
  },
  "language_info": {
   "codemirror_mode": {
    "name": "ipython",
    "version": 3
   },
   "file_extension": ".py",
   "mimetype": "text/x-python",
   "name": "python",
   "nbconvert_exporter": "python",
   "pygments_lexer": "ipython3",
   "version": "3.12.7"
  }
 },
 "nbformat": 4,
 "nbformat_minor": 5
}
